{
 "cells": [
  {
   "cell_type": "code",
   "execution_count": 11,
   "metadata": {},
   "outputs": [],
   "source": [
    "import numpy as np\n",
    "import tensorflow as tf\n",
    "from tensorflow.keras.models import Model\n",
    "from tensorflow.keras.layers import Conv2D, MaxPool2D, UpSampling2D, Concatenate, Input"
   ]
  },
  {
   "cell_type": "code",
   "execution_count": 2,
   "metadata": {},
   "outputs": [],
   "source": [
    "def get_conv2d(filters=64, kernel_size=3):\n",
    "    return Conv2D(input_shape=(256, 256, 1), filters=filters, \n",
    "                  kernel_size=kernel_size, strides=1, \n",
    "                  padding='same', activation='relu')"
   ]
  },
  {
   "cell_type": "code",
   "execution_count": 3,
   "metadata": {},
   "outputs": [],
   "source": [
    "ip = Input(shape=(320, 320, 1,))\n",
    "\n",
    "conv2d_64_1 = get_conv2d(64, 3)(ip)\n",
    "conv2d_64_2 = get_conv2d(64, 3)(conv2d_64_1) # Concat\n",
    "maxpool_1 = MaxPool2D(pool_size=2, strides=2)(conv2d_64_2)\n",
    "\n",
    "conv2d_64_3 = get_conv2d(64, 3)(maxpool_1)\n",
    "conv2d_128_1 = get_conv2d(128, 3)(conv2d_64_3)\n",
    "conv2d_128_2 = get_conv2d(128, 3)(conv2d_128_1) # Concat\n",
    "maxpool_2 = MaxPool2D(pool_size=2, strides=2)(conv2d_128_2)\n",
    "\n",
    "conv2d_128_3 = get_conv2d(128, 3)(maxpool_2)\n",
    "conv2d_256_1 = get_conv2d(256, 3)(conv2d_128_3)\n",
    "conv2d_128_4 = get_conv2d(128, 3)(conv2d_256_1)\n",
    "\n",
    "upsample1 = UpSampling2D(size=2)(conv2d_128_4)\n",
    "conv2d_128_5 = get_conv2d(128, 3)(upsample1)\n",
    "concat1 = Concatenate(axis=-1)([conv2d_128_5, conv2d_128_2])\n",
    "\n",
    "conv2d_128_6 = get_conv2d(128, 3)(concat1)\n",
    "conv2d_64_4 = get_conv2d(64, 3)(conv2d_128_6)\n",
    "\n",
    "upsample2 = UpSampling2D(size=2)(conv2d_64_4)\n",
    "conv2d_64_5 = get_conv2d(64, 3)(upsample2)\n",
    "concat2 = Concatenate(axis=-1)([conv2d_64_5, conv2d_64_2])\n",
    "\n",
    "conv2d_64_6 = get_conv2d(64, 3)(concat2)\n",
    "conv2d_64_7 = get_conv2d(64, 3)(conv2d_64_6)\n",
    "\n",
    "op = get_conv2d(1, 1)(conv2d_64_6)"
   ]
  },
  {
   "cell_type": "code",
   "execution_count": 4,
   "metadata": {},
   "outputs": [],
   "source": [
    "model = Model(inputs=ip, outputs=op)\n",
    "model.compile(optimizer='rmsprop', loss='mean_squared_error', metrics=['accuracy'])"
   ]
  },
  {
   "cell_type": "code",
   "execution_count": 5,
   "metadata": {},
   "outputs": [
    {
     "name": "stdout",
     "output_type": "stream",
     "text": [
      "__________________________________________________________________________________________________\n",
      "Layer (type)                    Output Shape         Param #     Connected to                     \n",
      "==================================================================================================\n",
      "input_1 (InputLayer)            (None, 320, 320, 1)  0                                            \n",
      "__________________________________________________________________________________________________\n",
      "conv2d (Conv2D)                 (None, 320, 320, 64) 640         input_1[0][0]                    \n",
      "__________________________________________________________________________________________________\n",
      "conv2d_1 (Conv2D)               (None, 320, 320, 64) 36928       conv2d[0][0]                     \n",
      "__________________________________________________________________________________________________\n",
      "max_pooling2d (MaxPooling2D)    (None, 160, 160, 64) 0           conv2d_1[0][0]                   \n",
      "__________________________________________________________________________________________________\n",
      "conv2d_2 (Conv2D)               (None, 160, 160, 64) 36928       max_pooling2d[0][0]              \n",
      "__________________________________________________________________________________________________\n",
      "conv2d_3 (Conv2D)               (None, 160, 160, 128 73856       conv2d_2[0][0]                   \n",
      "__________________________________________________________________________________________________\n",
      "conv2d_4 (Conv2D)               (None, 160, 160, 128 147584      conv2d_3[0][0]                   \n",
      "__________________________________________________________________________________________________\n",
      "max_pooling2d_1 (MaxPooling2D)  (None, 80, 80, 128)  0           conv2d_4[0][0]                   \n",
      "__________________________________________________________________________________________________\n",
      "conv2d_5 (Conv2D)               (None, 80, 80, 128)  147584      max_pooling2d_1[0][0]            \n",
      "__________________________________________________________________________________________________\n",
      "conv2d_6 (Conv2D)               (None, 80, 80, 256)  295168      conv2d_5[0][0]                   \n",
      "__________________________________________________________________________________________________\n",
      "conv2d_7 (Conv2D)               (None, 80, 80, 128)  295040      conv2d_6[0][0]                   \n",
      "__________________________________________________________________________________________________\n",
      "up_sampling2d (UpSampling2D)    (None, 160, 160, 128 0           conv2d_7[0][0]                   \n",
      "__________________________________________________________________________________________________\n",
      "conv2d_8 (Conv2D)               (None, 160, 160, 128 147584      up_sampling2d[0][0]              \n",
      "__________________________________________________________________________________________________\n",
      "concatenate (Concatenate)       (None, 160, 160, 256 0           conv2d_8[0][0]                   \n",
      "                                                                 conv2d_4[0][0]                   \n",
      "__________________________________________________________________________________________________\n",
      "conv2d_9 (Conv2D)               (None, 160, 160, 128 295040      concatenate[0][0]                \n",
      "__________________________________________________________________________________________________\n",
      "conv2d_10 (Conv2D)              (None, 160, 160, 64) 73792       conv2d_9[0][0]                   \n",
      "__________________________________________________________________________________________________\n",
      "up_sampling2d_1 (UpSampling2D)  (None, 320, 320, 64) 0           conv2d_10[0][0]                  \n",
      "__________________________________________________________________________________________________\n",
      "conv2d_11 (Conv2D)              (None, 320, 320, 64) 36928       up_sampling2d_1[0][0]            \n",
      "__________________________________________________________________________________________________\n",
      "concatenate_1 (Concatenate)     (None, 320, 320, 128 0           conv2d_11[0][0]                  \n",
      "                                                                 conv2d_1[0][0]                   \n",
      "__________________________________________________________________________________________________\n",
      "conv2d_12 (Conv2D)              (None, 320, 320, 64) 73792       concatenate_1[0][0]              \n",
      "__________________________________________________________________________________________________\n",
      "conv2d_14 (Conv2D)              (None, 320, 320, 1)  65          conv2d_12[0][0]                  \n",
      "==================================================================================================\n",
      "Total params: 1,660,929\n",
      "Trainable params: 1,660,929\n",
      "Non-trainable params: 0\n",
      "__________________________________________________________________________________________________\n"
     ]
    }
   ],
   "source": [
    "model.summary()"
   ]
  },
  {
   "cell_type": "code",
   "execution_count": 10,
   "metadata": {},
   "outputs": [],
   "source": [
    "data = np.load('./data.npy')"
   ]
  },
  {
   "cell_type": "code",
   "execution_count": null,
   "metadata": {},
   "outputs": [],
   "source": [
    "tf.data.d"
   ]
  }
 ],
 "metadata": {
  "kernelspec": {
   "display_name": "delors",
   "language": "python",
   "name": "delors"
  },
  "language_info": {
   "codemirror_mode": {
    "name": "ipython",
    "version": 3
   },
   "file_extension": ".py",
   "mimetype": "text/x-python",
   "name": "python",
   "nbconvert_exporter": "python",
   "pygments_lexer": "ipython3",
   "version": "3.6.3"
  }
 },
 "nbformat": 4,
 "nbformat_minor": 2
}
